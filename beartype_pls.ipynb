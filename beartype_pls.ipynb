{
 "cells": [
  {
   "cell_type": "code",
   "execution_count": 9,
   "id": "initial_id",
   "metadata": {
    "collapsed": true,
    "ExecuteTime": {
     "end_time": "2024-04-12T21:15:14.697644Z",
     "start_time": "2024-04-12T21:15:14.680267Z"
    }
   },
   "outputs": [
    {
     "ename": "BeartypeCallHintReturnViolation",
     "evalue": "Class method __main__.MyClass.new_incremented() return <__main__.MyClass object at 0x114909750> violates type hint 'MyClass', as <class \"__main__.MyClass\"> <__main__.MyClass object at 0x114909750> not instance of <class \"__main__.MyClass\">.",
     "output_type": "error",
     "traceback": [
      "\u001B[0;31m---------------------------------------------------------------------------\u001B[0m",
      "\u001B[0;31mBeartypeCallHintReturnViolation\u001B[0m           Traceback (most recent call last)",
      "Cell \u001B[0;32mIn[9], line 14\u001B[0m\n\u001B[1;32m     10\u001B[0m     \u001B[38;5;129m@classmethod\u001B[39m\n\u001B[1;32m     11\u001B[0m     \u001B[38;5;28;01mdef\u001B[39;00m \u001B[38;5;21mnew_incremented\u001B[39m(\u001B[38;5;28mcls\u001B[39m, attr: \u001B[38;5;28mint\u001B[39m) \u001B[38;5;241m-\u001B[39m\u001B[38;5;241m>\u001B[39m \u001B[38;5;124m\"\u001B[39m\u001B[38;5;124mMyClass\u001B[39m\u001B[38;5;124m\"\u001B[39m:\n\u001B[1;32m     12\u001B[0m         \u001B[38;5;28;01mreturn\u001B[39;00m MyClass(attr \u001B[38;5;241m+\u001B[39m \u001B[38;5;241m1\u001B[39m)\n\u001B[0;32m---> 14\u001B[0m instance \u001B[38;5;241m=\u001B[39m \u001B[43mMyClass\u001B[49m\u001B[38;5;241;43m.\u001B[39;49m\u001B[43mnew_incremented\u001B[49m\u001B[43m(\u001B[49m\u001B[38;5;241;43m10\u001B[39;49m\u001B[43m)\u001B[49m\n",
      "File \u001B[0;32m<@beartype(__main__.MyClass.new_incremented) at 0x112b54a40>:46\u001B[0m, in \u001B[0;36mnew_incremented\u001B[0;34m(__beartype_get_violation, __beartype_conf, __beartype_object_4624666048, __beartype_func, *args, **kwargs)\u001B[0m\n",
      "\u001B[0;31mBeartypeCallHintReturnViolation\u001B[0m: Class method __main__.MyClass.new_incremented() return <__main__.MyClass object at 0x114909750> violates type hint 'MyClass', as <class \"__main__.MyClass\"> <__main__.MyClass object at 0x114909750> not instance of <class \"__main__.MyClass\">."
     ]
    }
   ],
   "source": [
    "from beartype import beartype\n",
    "\n",
    "@beartype\n",
    "class MyClass:\n",
    "    attribute: int\n",
    "    \n",
    "    def __init__(self, attr: int) -> None:\n",
    "        self.attribute = attr\n",
    "        \n",
    "    @classmethod\n",
    "    def new_incremented(cls, attr: int) -> \"MyClass\":\n",
    "        return MyClass(attr + 1)\n",
    "        \n",
    "instance = MyClass.new_incremented(10)"
   ]
  }
 ],
 "metadata": {
  "kernelspec": {
   "display_name": "Python 3",
   "language": "python",
   "name": "python3"
  },
  "language_info": {
   "codemirror_mode": {
    "name": "ipython",
    "version": 2
   },
   "file_extension": ".py",
   "mimetype": "text/x-python",
   "name": "python",
   "nbconvert_exporter": "python",
   "pygments_lexer": "ipython2",
   "version": "2.7.6"
  }
 },
 "nbformat": 4,
 "nbformat_minor": 5
}
